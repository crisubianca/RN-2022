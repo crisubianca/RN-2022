{
  "nbformat": 4,
  "nbformat_minor": 0,
  "metadata": {
    "colab": {
      "provenance": [],
      "include_colab_link": true
    },
    "kernelspec": {
      "name": "python3",
      "display_name": "Python 3"
    },
    "language_info": {
      "name": "python"
    },
    "accelerator": "TPU",
    "gpuClass": "standard"
  },
  "cells": [
    {
      "cell_type": "markdown",
      "metadata": {
        "id": "view-in-github",
        "colab_type": "text"
      },
      "source": [
        "<a href=\"https://colab.research.google.com/github/crisubianca/RN-2022/blob/main/Identificare_Fantome.ipynb\" target=\"_parent\"><img src=\"https://colab.research.google.com/assets/colab-badge.svg\" alt=\"Open In Colab\"/></a>"
      ]
    },
    {
      "cell_type": "code",
      "source": [
        "# Loading libraries\n",
        "import numpy as np # linear algebra\n",
        "import pandas as pd # data processing, CSV file I/O (e.g. pd.read_csv)\n",
        "import warnings\n",
        "warnings.filterwarnings(\"ignore\")\n",
        "\n",
        "# Multilayer perceptron Neural Network\n",
        "from keras.models import Sequential\n",
        "from keras.layers import Dense\n",
        "from keras.layers import Dropout\n",
        "from keras.utils import np_utils"
      ],
      "metadata": {
        "id": "e6nB8Hyaa9EE"
      },
      "execution_count": null,
      "outputs": []
    },
    {
      "cell_type": "code",
      "source": [
        "# importing data\n",
        "traindata = pd.read_csv('../content/train.csv')\n",
        "testdata = pd.read_csv('../content/test.csv')\n",
        "print(traindata.head())\n",
        "print(testdata.head())"
      ],
      "metadata": {
        "id": "ybmJtLp6a920",
        "colab": {
          "base_uri": "https://localhost:8080/"
        },
        "outputId": "24d5a40b-1cb0-4a61-cd2e-f20c2e44b2b5"
      },
      "execution_count": null,
      "outputs": [
        {
          "output_type": "stream",
          "name": "stdout",
          "text": [
            "   id  bone_length  rotting_flesh  hair_length  has_soul  color    type\n",
            "0   0     0.354512       0.350839     0.465761  0.781142  clear   Ghoul\n",
            "1   1     0.575560       0.425868     0.531401  0.439899  green  Goblin\n",
            "2   2     0.467875       0.354330     0.811616  0.791225  black   Ghoul\n",
            "3   4     0.776652       0.508723     0.636766  0.884464  black   Ghoul\n",
            "4   5     0.566117       0.875862     0.418594  0.636438  green   Ghost\n",
            "   id  bone_length  rotting_flesh  hair_length  has_soul  color\n",
            "0   3     0.471774       0.387937     0.706087  0.698537  black\n",
            "1   6     0.427332       0.645024     0.565558  0.451462  white\n",
            "2   9     0.549602       0.491931     0.660387  0.449809  black\n",
            "3  10     0.638095       0.682867     0.471409  0.356924  white\n",
            "4  13     0.361762       0.583997     0.377256  0.276364  black\n"
          ]
        }
      ]
    },
    {
      "cell_type": "code",
      "source": [
        "# encoding string data columns\n",
        "from sklearn.preprocessing import LabelEncoder\n",
        "le = LabelEncoder()\n",
        "traindata['color'] = le.fit_transform(traindata['color'])\n",
        "testdata['color'] = le.fit_transform(testdata['color'])\n",
        "traindata['type'] = le.fit_transform(traindata['type'].astype(str))\n"
      ],
      "metadata": {
        "id": "9TlSiTAzbBBE",
        "colab": {
          "base_uri": "https://localhost:8080/"
        },
        "outputId": "9829c7e6-feb6-480b-837a-8eecf0a716bd"
      },
      "execution_count": null,
      "outputs": [
        {
          "output_type": "stream",
          "name": "stdout",
          "text": [
            "0      1\n",
            "1      2\n",
            "2      1\n",
            "3      1\n",
            "4      0\n",
            "      ..\n",
            "366    2\n",
            "367    0\n",
            "368    1\n",
            "369    0\n",
            "370    1\n",
            "Name: type, Length: 371, dtype: int64\n"
          ]
        }
      ]
    },
    {
      "cell_type": "code",
      "source": [
        "# Getting required features\n",
        "X = traindata.iloc[:,1:6].values\n",
        "y = traindata.iloc[:,6].values\n",
        "X_test = testdata.iloc[:,1:6].values\n",
        "print(X.shape)\n",
        "print(X_test.shape)"
      ],
      "metadata": {
        "id": "Nz8BAfV9bDg3",
        "colab": {
          "base_uri": "https://localhost:8080/"
        },
        "outputId": "195bf494-c74b-4a6f-8a20-7ffc5c318c18"
      },
      "execution_count": null,
      "outputs": [
        {
          "output_type": "stream",
          "name": "stdout",
          "text": [
            "(371, 5)\n",
            "(529, 5)\n"
          ]
        }
      ]
    },
    {
      "cell_type": "code",
      "source": [
        "# Feature scaling\n",
        "from sklearn.preprocessing import StandardScaler\n",
        "sc = StandardScaler()\n",
        "X_train = sc.fit_transform(X)\n",
        "X_test = sc.fit_transform(X_test)"
      ],
      "metadata": {
        "id": "hmndkH-nbHrb"
      },
      "execution_count": null,
      "outputs": []
    },
    {
      "cell_type": "code",
      "source": [
        "# fix random seed for reproducibility\n",
        "seed = 7\n",
        "np.random.seed(seed)"
      ],
      "metadata": {
        "id": "ZJKL9SYQbKLj"
      },
      "execution_count": null,
      "outputs": []
    },
    {
      "cell_type": "code",
      "source": [
        "# Using one hot encoding for multi-class categories (Fast-ANN)\n",
        "y = np_utils.to_categorical(y)"
      ],
      "metadata": {
        "id": "nEM4PjGHbMh-"
      },
      "execution_count": null,
      "outputs": []
    },
    {
      "cell_type": "code",
      "source": [
        "# Defining keras model\n",
        "# create model\n",
        "model = Sequential()\n",
        "model.add(Dense(5, input_dim=5, activation='relu'))\n",
        "model.add(Dense(3, activation='softmax'))\n",
        "# Compile model\n",
        "model.compile(loss='categorical_crossentropy', optimizer='adam', metrics=['accuracy'])\n"
      ],
      "metadata": {
        "id": "tr48rrBlbQDI"
      },
      "execution_count": null,
      "outputs": []
    },
    {
      "cell_type": "code",
      "source": [
        "# build the model\n",
        "# Fit the model\n",
        "model.fit(X_train, y, epochs=200, batch_size=5, verbose=0)"
      ],
      "metadata": {
        "colab": {
          "base_uri": "https://localhost:8080/"
        },
        "id": "dxl3YUgobTJx",
        "outputId": "809f01b6-b865-4c6b-9e02-c2a5d26af625"
      },
      "execution_count": null,
      "outputs": [
        {
          "output_type": "execute_result",
          "data": {
            "text/plain": [
              "<keras.callbacks.History at 0x7f0771bb5040>"
            ]
          },
          "metadata": {},
          "execution_count": 9
        }
      ]
    },
    {
      "cell_type": "code",
      "source": [
        "# predicting results\n",
        "pred = model.predict(X_test)\n",
        "pred = pred.argmax(1)\n",
        "pred = le.inverse_transform(pred)"
      ],
      "metadata": {
        "colab": {
          "base_uri": "https://localhost:8080/"
        },
        "id": "oTV5VYEmbVdY",
        "outputId": "68c924ef-1841-48ee-87e5-d2cd428db3d2"
      },
      "execution_count": null,
      "outputs": [
        {
          "output_type": "stream",
          "name": "stdout",
          "text": [
            "17/17 [==============================] - 0s 2ms/step\n"
          ]
        }
      ]
    },
    {
      "cell_type": "code",
      "source": [
        "# generating output\n",
        "id_data = testdata[['id']].values\n",
        "type_data = np.expand_dims(pred,axis=1)\n",
        "f = np.hstack((id_data,type_data))\n",
        "df = pd.DataFrame(f, columns = ['id', 'type'])\n",
        "df.to_csv('../content/sample_submission.csv', index=False)\n",
        "df.head()"
      ],
      "metadata": {
        "colab": {
          "base_uri": "https://localhost:8080/",
          "height": 206
        },
        "id": "BngaKJaZbYC3",
        "outputId": "92e6cc70-bebf-4924-9aa8-5d8353b92c63"
      },
      "execution_count": null,
      "outputs": [
        {
          "output_type": "execute_result",
          "data": {
            "text/plain": [
              "   id    type\n",
              "0   3   Ghoul\n",
              "1   6  Goblin\n",
              "2   9   Ghoul\n",
              "3  10   Ghoul\n",
              "4  13   Ghost"
            ],
            "text/html": [
              "\n",
              "  <div id=\"df-b19a01d5-b5da-4bac-867d-e27eb268c523\">\n",
              "    <div class=\"colab-df-container\">\n",
              "      <div>\n",
              "<style scoped>\n",
              "    .dataframe tbody tr th:only-of-type {\n",
              "        vertical-align: middle;\n",
              "    }\n",
              "\n",
              "    .dataframe tbody tr th {\n",
              "        vertical-align: top;\n",
              "    }\n",
              "\n",
              "    .dataframe thead th {\n",
              "        text-align: right;\n",
              "    }\n",
              "</style>\n",
              "<table border=\"1\" class=\"dataframe\">\n",
              "  <thead>\n",
              "    <tr style=\"text-align: right;\">\n",
              "      <th></th>\n",
              "      <th>id</th>\n",
              "      <th>type</th>\n",
              "    </tr>\n",
              "  </thead>\n",
              "  <tbody>\n",
              "    <tr>\n",
              "      <th>0</th>\n",
              "      <td>3</td>\n",
              "      <td>Ghoul</td>\n",
              "    </tr>\n",
              "    <tr>\n",
              "      <th>1</th>\n",
              "      <td>6</td>\n",
              "      <td>Goblin</td>\n",
              "    </tr>\n",
              "    <tr>\n",
              "      <th>2</th>\n",
              "      <td>9</td>\n",
              "      <td>Ghoul</td>\n",
              "    </tr>\n",
              "    <tr>\n",
              "      <th>3</th>\n",
              "      <td>10</td>\n",
              "      <td>Ghoul</td>\n",
              "    </tr>\n",
              "    <tr>\n",
              "      <th>4</th>\n",
              "      <td>13</td>\n",
              "      <td>Ghost</td>\n",
              "    </tr>\n",
              "  </tbody>\n",
              "</table>\n",
              "</div>\n",
              "      <button class=\"colab-df-convert\" onclick=\"convertToInteractive('df-b19a01d5-b5da-4bac-867d-e27eb268c523')\"\n",
              "              title=\"Convert this dataframe to an interactive table.\"\n",
              "              style=\"display:none;\">\n",
              "        \n",
              "  <svg xmlns=\"http://www.w3.org/2000/svg\" height=\"24px\"viewBox=\"0 0 24 24\"\n",
              "       width=\"24px\">\n",
              "    <path d=\"M0 0h24v24H0V0z\" fill=\"none\"/>\n",
              "    <path d=\"M18.56 5.44l.94 2.06.94-2.06 2.06-.94-2.06-.94-.94-2.06-.94 2.06-2.06.94zm-11 1L8.5 8.5l.94-2.06 2.06-.94-2.06-.94L8.5 2.5l-.94 2.06-2.06.94zm10 10l.94 2.06.94-2.06 2.06-.94-2.06-.94-.94-2.06-.94 2.06-2.06.94z\"/><path d=\"M17.41 7.96l-1.37-1.37c-.4-.4-.92-.59-1.43-.59-.52 0-1.04.2-1.43.59L10.3 9.45l-7.72 7.72c-.78.78-.78 2.05 0 2.83L4 21.41c.39.39.9.59 1.41.59.51 0 1.02-.2 1.41-.59l7.78-7.78 2.81-2.81c.8-.78.8-2.07 0-2.86zM5.41 20L4 18.59l7.72-7.72 1.47 1.35L5.41 20z\"/>\n",
              "  </svg>\n",
              "      </button>\n",
              "      \n",
              "  <style>\n",
              "    .colab-df-container {\n",
              "      display:flex;\n",
              "      flex-wrap:wrap;\n",
              "      gap: 12px;\n",
              "    }\n",
              "\n",
              "    .colab-df-convert {\n",
              "      background-color: #E8F0FE;\n",
              "      border: none;\n",
              "      border-radius: 50%;\n",
              "      cursor: pointer;\n",
              "      display: none;\n",
              "      fill: #1967D2;\n",
              "      height: 32px;\n",
              "      padding: 0 0 0 0;\n",
              "      width: 32px;\n",
              "    }\n",
              "\n",
              "    .colab-df-convert:hover {\n",
              "      background-color: #E2EBFA;\n",
              "      box-shadow: 0px 1px 2px rgba(60, 64, 67, 0.3), 0px 1px 3px 1px rgba(60, 64, 67, 0.15);\n",
              "      fill: #174EA6;\n",
              "    }\n",
              "\n",
              "    [theme=dark] .colab-df-convert {\n",
              "      background-color: #3B4455;\n",
              "      fill: #D2E3FC;\n",
              "    }\n",
              "\n",
              "    [theme=dark] .colab-df-convert:hover {\n",
              "      background-color: #434B5C;\n",
              "      box-shadow: 0px 1px 3px 1px rgba(0, 0, 0, 0.15);\n",
              "      filter: drop-shadow(0px 1px 2px rgba(0, 0, 0, 0.3));\n",
              "      fill: #FFFFFF;\n",
              "    }\n",
              "  </style>\n",
              "\n",
              "      <script>\n",
              "        const buttonEl =\n",
              "          document.querySelector('#df-b19a01d5-b5da-4bac-867d-e27eb268c523 button.colab-df-convert');\n",
              "        buttonEl.style.display =\n",
              "          google.colab.kernel.accessAllowed ? 'block' : 'none';\n",
              "\n",
              "        async function convertToInteractive(key) {\n",
              "          const element = document.querySelector('#df-b19a01d5-b5da-4bac-867d-e27eb268c523');\n",
              "          const dataTable =\n",
              "            await google.colab.kernel.invokeFunction('convertToInteractive',\n",
              "                                                     [key], {});\n",
              "          if (!dataTable) return;\n",
              "\n",
              "          const docLinkHtml = 'Like what you see? Visit the ' +\n",
              "            '<a target=\"_blank\" href=https://colab.research.google.com/notebooks/data_table.ipynb>data table notebook</a>'\n",
              "            + ' to learn more about interactive tables.';\n",
              "          element.innerHTML = '';\n",
              "          dataTable['output_type'] = 'display_data';\n",
              "          await google.colab.output.renderOutput(dataTable, element);\n",
              "          const docLink = document.createElement('div');\n",
              "          docLink.innerHTML = docLinkHtml;\n",
              "          element.appendChild(docLink);\n",
              "        }\n",
              "      </script>\n",
              "    </div>\n",
              "  </div>\n",
              "  "
            ]
          },
          "metadata": {},
          "execution_count": 11
        }
      ]
    }
  ]
}